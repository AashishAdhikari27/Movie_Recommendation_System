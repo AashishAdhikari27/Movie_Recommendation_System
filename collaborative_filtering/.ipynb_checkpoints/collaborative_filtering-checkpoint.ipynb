{
 "cells": [
  {
   "cell_type": "raw",
   "id": "4e3f3f7e-ba12-46d4-aac8-5565529b9e65",
   "metadata": {},
   "source": [
    "import pandas as pd\n",
    "import numpy as np\n"
   ]
  },
  {
   "cell_type": "raw",
   "id": "057cabf5-7aed-408b-ba52-47747db68dc8",
   "metadata": {},
   "source": [
    "movies = pd.read_csv('data/movies.csv')\n",
    "ratings = pd.read_csv('data/ratings.csv')\n"
   ]
  },
  {
   "cell_type": "raw",
   "id": "eb4274d6-f835-47d3-9260-f4272a3384ec",
   "metadata": {},
   "source": [
    "movies"
   ]
  },
  {
   "cell_type": "raw",
   "id": "39776679-483e-477a-bcb8-c51571bcf635",
   "metadata": {},
   "source": [
    "ratings.head()"
   ]
  },
  {
   "cell_type": "raw",
   "id": "513c7726-b4d0-4462-9c0b-6b8ffe14917e",
   "metadata": {},
   "source": [
    "movies.shape,ratings.shape"
   ]
  },
  {
   "cell_type": "raw",
   "id": "acc40edd-7d76-4d80-9d78-333fe6f32737",
   "metadata": {},
   "source": [
    "movies.isnull().sum()"
   ]
  },
  {
   "cell_type": "raw",
   "id": "7ddd9ff1-d2d0-4ad9-b9f9-9c87471ea1c2",
   "metadata": {},
   "source": [
    "ratings.isnull().sum()"
   ]
  },
  {
   "cell_type": "raw",
   "id": "a00ccba1-407f-4e69-8bef-d164b020dd20",
   "metadata": {},
   "source": [
    "movies.duplicated().sum() , ratings.duplicated().sum()"
   ]
  },
  {
   "cell_type": "raw",
   "id": "bd494962-9bd5-4aa1-85f6-2f6f0952f49e",
   "metadata": {},
   "source": [
    "# mergiing the two datasets \n",
    "\n",
    "ratings = pd.merge(movies,ratings).drop(['genres','timestamp'],axis=1)\n",
    "ratings\n"
   ]
  },
  {
   "cell_type": "raw",
   "id": "fd90dbe8-a967-426d-a3bc-2362a9f4e9a3",
   "metadata": {},
   "source": [
    "pt = ratings.pivot_table(index='userId',columns='title',values='rating')"
   ]
  },
  {
   "cell_type": "raw",
   "id": "ec21b041-8102-46ff-97ae-f8e9eb55ce3d",
   "metadata": {},
   "source": [
    "pt.fillna(0,inplace=True)"
   ]
  },
  {
   "cell_type": "raw",
   "id": "85b3b1e0-0f66-4b04-8853-76f2279f2f99",
   "metadata": {},
   "source": [
    "pt"
   ]
  },
  {
   "cell_type": "raw",
   "id": "77cdb895-5eff-4b53-be1c-cea63b1a520d",
   "metadata": {},
   "source": [
    "user_ratings = pt.dropna(thresh=10, axis=1).fillna(0)\n",
    "\n",
    "user_ratings.head()"
   ]
  },
  {
   "cell_type": "raw",
   "id": "b8a43abd-2769-4739-8bd5-f854009664ae",
   "metadata": {},
   "source": [
    "item_similarity = pt.corr(method='pearson')\n",
    "item_similarity"
   ]
  },
  {
   "cell_type": "raw",
   "id": "72dad53c-77d4-4ae1-96ee-75fefcb95f78",
   "metadata": {},
   "source": [
    "item_similarity_df = user_ratings.corr(method='pearson')\n",
    "\n",
    "item_similarity_df.head()"
   ]
  },
  {
   "cell_type": "raw",
   "id": "ec16ca01-4fe6-4815-bddd-3192c3b5bb22",
   "metadata": {},
   "source": [
    "def recommend(movie_name, user_rating):\n",
    "    similar_score = item_similarity_df[movie_name]*(user_rating-2.5)\n",
    "    similar_score = similar_score.sort_values(ascending = False)\n",
    "    return similar_score\n",
    "\n"
   ]
  },
  {
   "cell_type": "raw",
   "id": "55030115-dbb6-4988-ab00-a895ba3d30e6",
   "metadata": {},
   "source": [
    "recommend(\"The Martian (2015)\",4.5)"
   ]
  },
  {
   "cell_type": "raw",
   "id": "d1744cdb-c3d0-4b4e-b4f5-0ed5af86b8d7",
   "metadata": {},
   "source": [
    "## Checking if the reommending movies is already watched or not ?\n",
    "\n",
    "def check_seen(movie, seen_movies):\n",
    "    for item in seen_movies:\n",
    "        if item == movie:\n",
    "            return True\n",
    "\n",
    "    return False\n"
   ]
  },
  {
   "cell_type": "raw",
   "id": "c0f29cef-348a-4a65-a0d2-b37d7ae293d6",
   "metadata": {},
   "source": [
    "# romantic_lover = [(\"(500) Days of Summer (2009)\",5),(\"Alice in Wonderland (2010)\",3),(\"Aliens (1986)\",1),(\"2001: A Space Odyssey (1968)\",2)]\n",
    "scifi_lover = [(\"The Martian (2015)\", 5), (\"Edge of Tomorrow (2014)\",4)]\n",
    "\n",
    "similar_movies = pd.DataFrame()\n",
    "\n",
    "# for movie,rating in romantic_lover:\n",
    "#     similar_movies = similar_movies._append(recommend(movie,rating),ignore_index = True)\n",
    "\n",
    "\n",
    "for movie,rating in scifi_lover:\n",
    "    similar_movies = similar_movies._append(recommend(movie,rating), ignore_index=True)\n",
    "\n",
    "similar_movies.head(10)"
   ]
  },
  {
   "cell_type": "raw",
   "id": "530403a0-07be-452c-b466-20a996d4ca20",
   "metadata": {},
   "source": [
    "all_recommend = similar_movies.sum().sort_values(ascending=False)\n",
    "\n",
    "all_recommend.head(20)"
   ]
  },
  {
   "cell_type": "raw",
   "id": "4a2bb8e1-502e-4a2f-8ced-fe737cc5e442",
   "metadata": {},
   "source": []
  }
 ],
 "metadata": {
  "kernelspec": {
   "display_name": "pandas",
   "language": "python",
   "name": "myenv"
  },
  "language_info": {
   "codemirror_mode": {
    "name": "ipython",
    "version": 3
   },
   "file_extension": ".py",
   "mimetype": "text/x-python",
   "name": "python",
   "nbconvert_exporter": "python",
   "pygments_lexer": "ipython3",
   "version": "3.10.13"
  }
 },
 "nbformat": 4,
 "nbformat_minor": 5
}
